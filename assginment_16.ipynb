{
 "cells": [
  {
   "cell_type": "code",
   "execution_count": 1,
   "metadata": {},
   "outputs": [
    {
     "name": "stdout",
     "output_type": "stream",
     "text": [
      "enter word:\n",
      "incredible\n",
      "in. . .in. . .incredible\n"
     ]
    }
   ],
   "source": [
    "'''Question1. Write a function that stutters a word as if someone is struggling to read it. The\n",
    "first two letters are repeated twice with an ellipsis ... and space after each, and then the\n",
    "word is pronounced with a question mark ?.'''\n",
    "\n",
    "\n",
    "def stutter(word):\n",
    "    k=word[:2]\n",
    "    print(k+'. . .'+k+'. . .'+word)\n",
    "    \n",
    "word=input('enter word:\\n')\n",
    "stutter(word)"
   ]
  },
  {
   "cell_type": "code",
   "execution_count": 6,
   "metadata": {},
   "outputs": [],
   "source": [
    "'''Question 2.Create a function that takes an angle in radians and returns the corresponding\n",
    "angle in degrees rounded to one decimal place.'''\n",
    "\n",
    "from math import *\n",
    "\n",
    "def radian_to_degrees(radian):\n",
    "    degrees=round(radian*(180/pi),1)\n",
    "    \n",
    "    return degrees\n",
    "\n",
    "def main():\n",
    "    radian=float(input('enter the radian:\\n'))\n",
    "    print('degrees=',radian_to_degrees(radian))"
   ]
  },
  {
   "cell_type": "code",
   "execution_count": 7,
   "metadata": {},
   "outputs": [
    {
     "name": "stdout",
     "output_type": "stream",
     "text": [
      "enter the radian:\n",
      "1\n",
      "degrees= 57.3\n"
     ]
    }
   ],
   "source": [
    "main()"
   ]
  },
  {
   "cell_type": "code",
   "execution_count": 21,
   "metadata": {},
   "outputs": [],
   "source": [
    "'''Question 3. In this challenge, establish if a given integer num is a Curzon number. If 1 plus\n",
    "2 elevated to num is exactly divisible by 1 plus 2 multiplied by num, then num is a Curzon\n",
    "number.\n",
    "Given a non-negative integer num, implement a function that returns True if num is a Curzon\n",
    "number, or False otherwise.'''\n",
    "\n",
    "def is_curzon(num):\n",
    "    condition_1=(2**num)+1\n",
    "    condition_2= (2*num)+1\n",
    "    \n",
    "    if (condition_1%condition_2)==0:\n",
    "        print('True')\n",
    "    else:\n",
    "        print('flase')\n",
    "\n",
    "        \n",
    "def main():\n",
    "    num=int(input('enter non-negtive number:\\n'))\n",
    "    is_curzon(num)"
   ]
  },
  {
   "cell_type": "code",
   "execution_count": 22,
   "metadata": {},
   "outputs": [
    {
     "name": "stdout",
     "output_type": "stream",
     "text": [
      "enter non-negtive number:\n",
      "5\n",
      "True\n"
     ]
    }
   ],
   "source": [
    "main()"
   ]
  },
  {
   "cell_type": "code",
   "execution_count": 31,
   "metadata": {},
   "outputs": [],
   "source": [
    "'''Question 4.Given the side length x find the area of a hexagon.'''\n",
    "\n",
    "from math import *\n",
    "def area_of_hexagon(s):\n",
    "    \n",
    "    area=round((3*sqrt(3)*(s**2))/2,1)\n",
    "    \n",
    "    return area\n",
    "\n"
   ]
  },
  {
   "cell_type": "code",
   "execution_count": 33,
   "metadata": {},
   "outputs": [
    {
     "data": {
      "text/plain": [
       "23.4"
      ]
     },
     "execution_count": 33,
     "metadata": {},
     "output_type": "execute_result"
    }
   ],
   "source": [
    "area_of_hexagon(3)"
   ]
  },
  {
   "cell_type": "code",
   "execution_count": 34,
   "metadata": {},
   "outputs": [
    {
     "data": {
      "text/plain": [
       "2.6"
      ]
     },
     "execution_count": 34,
     "metadata": {},
     "output_type": "execute_result"
    }
   ],
   "source": [
    "area_of_hexagon(1)"
   ]
  },
  {
   "cell_type": "code",
   "execution_count": null,
   "metadata": {},
   "outputs": [],
   "source": []
  }
 ],
 "metadata": {
  "kernelspec": {
   "display_name": "Python 3",
   "language": "python",
   "name": "python3"
  },
  "language_info": {
   "codemirror_mode": {
    "name": "ipython",
    "version": 3
   },
   "file_extension": ".py",
   "mimetype": "text/x-python",
   "name": "python",
   "nbconvert_exporter": "python",
   "pygments_lexer": "ipython3",
   "version": "3.8.3"
  }
 },
 "nbformat": 4,
 "nbformat_minor": 4
}
