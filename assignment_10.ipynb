{
 "cells": [
  {
   "cell_type": "code",
   "execution_count": 1,
   "metadata": {},
   "outputs": [],
   "source": [
    "#1. Write a Python program to find sum of elements in list?\n",
    "\n",
    "def sum_list(a):\n",
    "    s=0\n",
    "    if type(a)==list:\n",
    "        for i in a:\n",
    "            s=s+i\n",
    "    else:\n",
    "        print('given data structure not in list ')\n",
    "    return s"
   ]
  },
  {
   "cell_type": "code",
   "execution_count": 2,
   "metadata": {},
   "outputs": [
    {
     "data": {
      "text/plain": [
       "45"
      ]
     },
     "execution_count": 2,
     "metadata": {},
     "output_type": "execute_result"
    }
   ],
   "source": [
    "b=[1,2,3,4,5,6,7,8,9]\n",
    "sum_list(b)"
   ]
  },
  {
   "cell_type": "code",
   "execution_count": 3,
   "metadata": {},
   "outputs": [],
   "source": [
    "#2. Write a Python program to Multiply all numbers in the list?\n",
    "\n",
    "def multi_list(a):\n",
    "    s=1\n",
    "    if type(a)==list:\n",
    "        for i in a:\n",
    "            s=s*i\n",
    "    else:\n",
    "        print('given data structure is not in list ')\n",
    "    return s\n",
    "    "
   ]
  },
  {
   "cell_type": "code",
   "execution_count": 4,
   "metadata": {},
   "outputs": [
    {
     "data": {
      "text/plain": [
       "362880"
      ]
     },
     "execution_count": 4,
     "metadata": {},
     "output_type": "execute_result"
    }
   ],
   "source": [
    "b=[1,2,3,4,5,6,7,8,9]\n",
    "multi_list(b)"
   ]
  },
  {
   "cell_type": "code",
   "execution_count": 14,
   "metadata": {},
   "outputs": [],
   "source": [
    "#3. Write a Python program to find smallest number in a list?\n",
    "\n",
    "def smallest_number(a):\n",
    "    if type(a)==list:\n",
    "        a.sort()\n",
    "    else:\n",
    "        print('given data structure is not in list ')\n",
    "        \n",
    "    return('smallest number in given list ',a[0])"
   ]
  },
  {
   "cell_type": "code",
   "execution_count": 28,
   "metadata": {},
   "outputs": [
    {
     "data": {
      "text/plain": [
       "('smallest number in given list ', 1)"
      ]
     },
     "execution_count": 28,
     "metadata": {},
     "output_type": "execute_result"
    }
   ],
   "source": [
    "l=[6,4,6,1,3,4,8]\n",
    "smallest_number(l)"
   ]
  },
  {
   "cell_type": "code",
   "execution_count": 16,
   "metadata": {},
   "outputs": [],
   "source": [
    "#4. Write a Python program to find largest number in a list?\n",
    "\n",
    "def largest_number(a):\n",
    "    if type(a)==list:\n",
    "        print('largest number in given list is',max(a))\n",
    "    else:\n",
    "        print('given data structure is not in list ')\n",
    "    "
   ]
  },
  {
   "cell_type": "code",
   "execution_count": 27,
   "metadata": {},
   "outputs": [
    {
     "name": "stdout",
     "output_type": "stream",
     "text": [
      "largest number in given list is 8\n"
     ]
    }
   ],
   "source": [
    "l=[6,4,6,1,3,4,8]\n",
    "largest_number(l)"
   ]
  },
  {
   "cell_type": "code",
   "execution_count": 22,
   "metadata": {},
   "outputs": [],
   "source": [
    "#5. Write a Python program to find second largest number in a list?\n",
    "\n",
    "def second_largest_number(a):\n",
    "    if type(a)==list:\n",
    "        s=len(a)\n",
    "        a.sort()\n",
    "    else:\n",
    "        print('given data structure is not in list ')\n",
    "        \n",
    "    return('smallest number in given list ',a[s-2])"
   ]
  },
  {
   "cell_type": "code",
   "execution_count": 24,
   "metadata": {},
   "outputs": [
    {
     "data": {
      "text/plain": [
       "('smallest number in given list ', 6)"
      ]
     },
     "execution_count": 24,
     "metadata": {},
     "output_type": "execute_result"
    }
   ],
   "source": [
    "l=[6,4,6,1,3,4,8]\n",
    "\n",
    "second_largest_number(l)"
   ]
  },
  {
   "cell_type": "code",
   "execution_count": 29,
   "metadata": {},
   "outputs": [],
   "source": [
    "#6. Write a Python program to find N largest elements from a list?\n",
    "\n",
    "def n_largest_element(a,n):\n",
    "    if type(a)==list:\n",
    "        a.sort()\n",
    "    else:\n",
    "        print('given data structure is not in list')\n",
    "    return('N largest element',a[-n:])"
   ]
  },
  {
   "cell_type": "code",
   "execution_count": 30,
   "metadata": {},
   "outputs": [
    {
     "data": {
      "text/plain": [
       "('N largest element', [6, 8])"
      ]
     },
     "execution_count": 30,
     "metadata": {},
     "output_type": "execute_result"
    }
   ],
   "source": [
    "l=[6,4,6,1,3,4,8]\n",
    "n=2\n",
    "n_largest_element(l,n)"
   ]
  },
  {
   "cell_type": "code",
   "execution_count": 35,
   "metadata": {},
   "outputs": [],
   "source": [
    "#7. Write a Python program to print even numbers in a list? and 8. Write a Python program to print odd numbers in a List?\n",
    "\n",
    "\n",
    "def even_or_odd(a):\n",
    "    even=[]\n",
    "    odd=[]\n",
    "    if type(a)== list:\n",
    "        for i in a:\n",
    "            if i%2==0:\n",
    "                even.append(i)\n",
    "            else:\n",
    "                odd.append(i)\n",
    "    return ('even =',even ,'odd=',odd)"
   ]
  },
  {
   "cell_type": "code",
   "execution_count": 43,
   "metadata": {},
   "outputs": [
    {
     "data": {
      "text/plain": [
       "('even =', [2, 4, 6, 8, 10], 'odd=', [1, 3, 5, 7, 9])"
      ]
     },
     "execution_count": 43,
     "metadata": {},
     "output_type": "execute_result"
    }
   ],
   "source": [
    "a=[1,2,3,4,5,6,7,8,9,10]\n",
    "even_or_odd(a)"
   ]
  },
  {
   "cell_type": "code",
   "execution_count": 51,
   "metadata": {},
   "outputs": [],
   "source": [
    "#9. Write a Python program to Remove empty List from List?\n",
    "\n",
    "\n",
    "\n",
    "def remove_empty(l):\n",
    "    count=0\n",
    "\n",
    "    while count<len(l):\n",
    "        if type(l[count])==list:\n",
    "            if len(l[count])==0:\n",
    "                l.pop(count)\n",
    "                continue\n",
    "        count=count+1\n",
    "\n",
    "    return l\n",
    "        \n",
    "        \n",
    "    "
   ]
  },
  {
   "cell_type": "code",
   "execution_count": 52,
   "metadata": {},
   "outputs": [
    {
     "data": {
      "text/plain": [
       "[1, 2, 3, [1, 2, 3], ['kak', 'w', 1]]"
      ]
     },
     "execution_count": 52,
     "metadata": {},
     "output_type": "execute_result"
    }
   ],
   "source": [
    "l=[1,2,3,[],[],[1,2,3],['kak','w',1]]\n",
    "remove_empty(l)"
   ]
  },
  {
   "cell_type": "code",
   "execution_count": 53,
   "metadata": {},
   "outputs": [],
   "source": [
    "#10. Write a Python program to Cloning or Copying a list?\n",
    "\n",
    "def clonig(l):\n",
    "    l_c=l[:]\n",
    "    return l_c"
   ]
  },
  {
   "cell_type": "code",
   "execution_count": 56,
   "metadata": {},
   "outputs": [
    {
     "data": {
      "text/plain": [
       "[1, 1, 2, 3, 4, 5, 6, 7, 8]"
      ]
     },
     "execution_count": 56,
     "metadata": {},
     "output_type": "execute_result"
    }
   ],
   "source": [
    "l=[1,1,2,3,4,5,6,7,8]\n",
    "clonig(l)"
   ]
  },
  {
   "cell_type": "code",
   "execution_count": 60,
   "metadata": {},
   "outputs": [],
   "source": [
    "#11. Write a Python program to Count occurrences of an element in a list?\n",
    "\n",
    "def count_element(l,x):\n",
    "    c=0\n",
    "    for i in l:\n",
    "        if x==i:\n",
    "            c=c+1\n",
    "    return c"
   ]
  },
  {
   "cell_type": "code",
   "execution_count": 61,
   "metadata": {},
   "outputs": [
    {
     "data": {
      "text/plain": [
       "2"
      ]
     },
     "execution_count": 61,
     "metadata": {},
     "output_type": "execute_result"
    }
   ],
   "source": [
    "l=[1,1,2,3,4,5,6,7,8]\n",
    "count_element(l,1)"
   ]
  },
  {
   "cell_type": "code",
   "execution_count": null,
   "metadata": {},
   "outputs": [],
   "source": []
  }
 ],
 "metadata": {
  "kernelspec": {
   "display_name": "Python 3",
   "language": "python",
   "name": "python3"
  },
  "language_info": {
   "codemirror_mode": {
    "name": "ipython",
    "version": 3
   },
   "file_extension": ".py",
   "mimetype": "text/x-python",
   "name": "python",
   "nbconvert_exporter": "python",
   "pygments_lexer": "ipython3",
   "version": "3.8.3"
  }
 },
 "nbformat": 4,
 "nbformat_minor": 4
}
