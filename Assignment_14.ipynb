{
 "cells": [
  {
   "cell_type": "code",
   "execution_count": 1,
   "metadata": {},
   "outputs": [],
   "source": [
    "\"\"\"Define a class with a generator which can iterate the numbers, which are divisible by\n",
    "7, between a given range 0 and n.\"\"\"\n",
    "\n",
    "\n",
    "def div7(n):\n",
    "    lst=[]\n",
    "    for i in range(n):\n",
    "        if i%7==0:\n",
    "            lst.append(i)\n",
    "    return lst"
   ]
  },
  {
   "cell_type": "code",
   "execution_count": 2,
   "metadata": {},
   "outputs": [
    {
     "data": {
      "text/plain": [
       "[0, 7, 14, 21, 28, 35, 42, 49, 56, 63, 70, 77, 84, 91, 98]"
      ]
     },
     "execution_count": 2,
     "metadata": {},
     "output_type": "execute_result"
    }
   ],
   "source": [
    "div7(100)"
   ]
  },
  {
   "cell_type": "code",
   "execution_count": 3,
   "metadata": {},
   "outputs": [],
   "source": [
    "p='New to Python or choosing between Python 2 and Python 3? Read Python 2 or Python 3.'"
   ]
  },
  {
   "cell_type": "code",
   "execution_count": null,
   "metadata": {},
   "outputs": [],
   "source": [
    "\n",
    "\n"
   ]
  },
  {
   "cell_type": "code",
   "execution_count": 20,
   "metadata": {},
   "outputs": [
    {
     "name": "stdout",
     "output_type": "stream",
     "text": [
      "enter the sentence :\n",
      "New to Python or choosing between Python 2 and Python 3? Read Python 2 or Python 3.\n",
      "output is:\n",
      "to : 1\n",
      "and : 1\n",
      "3. : 1\n",
      "between : 1\n",
      "Read : 1\n",
      "New : 1\n",
      "3? : 1\n",
      "or : 2\n",
      "Python : 5\n",
      "2 : 2\n",
      "choosing : 1\n"
     ]
    }
   ],
   "source": [
    "\"\"\"Question 2:\n",
    "Write a program to compute the frequency of the words from the input. The output\n",
    "should output after sorting the key alphanumerically.\n",
    "Suppose the following input is supplied to the program:\n",
    "New to Python or choosing between Python 2 and Python 3? Read Python 2 or\n",
    "Python 3.\"\"\"\n",
    "\n",
    "sentence=input('enter the sentence :\\n')\n",
    "lst=sentence.split()\n",
    "set_1=set(lst)\n",
    "print('output is:')\n",
    "for i in set_1:\n",
    "    count=lst.count(i)\n",
    "    print(i,':',count)"
   ]
  },
  {
   "cell_type": "code",
   "execution_count": 21,
   "metadata": {},
   "outputs": [
    {
     "name": "stdout",
     "output_type": "stream",
     "text": [
      "Male\n",
      "Female\n"
     ]
    }
   ],
   "source": [
    "\"\"\"Define a class Person and its two child classes: Male and Female. All classes have a\n",
    "method &quot;getGender&quot; which can print &quot;Male&quot; for Male class and &quot;Female&quot; for Female\n",
    "class.\"\"\"\n",
    "\n",
    "class Person():\n",
    "    def getGender(self):\n",
    "        return \"Unknown\"\n",
    "\n",
    "\n",
    "class Male(Person):\n",
    "    def getGender(self):\n",
    "        return \"Male\"\n",
    "\n",
    "\n",
    "class Female(Person):\n",
    "    def getGender(self):\n",
    "        return \"Female\"\n",
    "\n",
    "\n",
    "aMale = Male()\n",
    "aFemale = Female()\n",
    "print(aMale.getGender())\n",
    "print(aFemale.getGender())"
   ]
  },
  {
   "cell_type": "code",
   "execution_count": 27,
   "metadata": {},
   "outputs": [
    {
     "name": "stdout",
     "output_type": "stream",
     "text": [
      "I   Play   Hockey\n",
      "I   Play   Football\n",
      "I   Love   Hockey\n",
      "I   Love   Football\n",
      "You   Play   Hockey\n",
      "You   Play   Football\n",
      "You   Love   Hockey\n",
      "You   Love   Football\n"
     ]
    }
   ],
   "source": [
    "\"\"\"Please write a program to generate all sentences where subject is in [I, You] and\n",
    "verb is in [Play,Love] and the object is in [Hockey,Football].\"\"\"\n",
    "\n",
    "\n",
    "subject=['I', 'You']\n",
    "verb=['Play','Love']\n",
    "object1=['Hockey','Football']\n",
    "for i in subject:\n",
    "    for j in verb:\n",
    "        for k in object1:\n",
    "            print(i,' ',j,' ',k)"
   ]
  },
  {
   "cell_type": "code",
   "execution_count": 4,
   "metadata": {},
   "outputs": [
    {
     "name": "stdout",
     "output_type": "stream",
     "text": [
      "Compressed:  b'\\x1f\\x8b\\x08\\x00\\xec\\x9d&b\\x02\\xff\\xf3H\\xcd\\xc9\\xc9W(\\xcf/\\xcaI\\x01\\x00R\\x9e\\xd6\\x8b\\x0b\\x00\\x00\\x00'\n",
      "Decompressed:  b'Hello world'\n"
     ]
    }
   ],
   "source": [
    "import gzip\n",
    "text=b'Hello world'\n",
    "comp=gzip.compress(text)\n",
    "print(\"Compressed: \", comp)\n",
    "decomp=gzip.decompress(comp)\n",
    "print(\"Decompressed: \", decomp)"
   ]
  },
  {
   "cell_type": "code",
   "execution_count": 11,
   "metadata": {},
   "outputs": [
    {
     "data": {
      "text/plain": [
       "3"
      ]
     },
     "execution_count": 11,
     "metadata": {},
     "output_type": "execute_result"
    }
   ],
   "source": [
    "'''Question 6:\n",
    "Please write a binary search function which searches an item in a sorted list. The\n",
    "function should return the index of element to be searched in the list.'''\n",
    "\n",
    "import math\n",
    "def bin_search(lst, element):\n",
    "    bottom = 0\n",
    "    top = len(li)-1\n",
    "    index = -1\n",
    "    while top>=bottom and index==-1:\n",
    "        mid = int(math.floor((top+bottom)/2.0))\n",
    "        if lst[mid]==element:\n",
    "            index = mid\n",
    "        elif lst[mid]>element:\n",
    "            top = mid-1\n",
    "        else:\n",
    "            bottom = mid+1\n",
    "\n",
    "    return index\n",
    "\n",
    "lst=[1,2,3,44,55,77,87]\n",
    "bin_search(lst,44)"
   ]
  },
  {
   "cell_type": "code",
   "execution_count": 8,
   "metadata": {},
   "outputs": [],
   "source": []
  },
  {
   "cell_type": "code",
   "execution_count": null,
   "metadata": {},
   "outputs": [],
   "source": []
  }
 ],
 "metadata": {
  "kernelspec": {
   "display_name": "Python 3",
   "language": "python",
   "name": "python3"
  },
  "language_info": {
   "codemirror_mode": {
    "name": "ipython",
    "version": 3
   },
   "file_extension": ".py",
   "mimetype": "text/x-python",
   "name": "python",
   "nbconvert_exporter": "python",
   "pygments_lexer": "ipython3",
   "version": "3.8.3"
  }
 },
 "nbformat": 4,
 "nbformat_minor": 4
}
