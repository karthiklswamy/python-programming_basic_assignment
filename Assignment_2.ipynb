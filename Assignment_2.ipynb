{
 "cells": [
  {
   "cell_type": "code",
   "execution_count": 1,
   "metadata": {},
   "outputs": [],
   "source": [
    "#1. Write a Python program to convert kilometers to miles?\n",
    "def km_to_miles(k):# input k is in koilmeter \n",
    "    c=0.621371     #conversion constant\n",
    "    miles=c*k \n",
    "    return miles"
   ]
  },
  {
   "cell_type": "code",
   "execution_count": 2,
   "metadata": {},
   "outputs": [
    {
     "data": {
      "text/plain": [
       "1.242742"
      ]
     },
     "execution_count": 2,
     "metadata": {},
     "output_type": "execute_result"
    }
   ],
   "source": [
    "km_to_miles(2)"
   ]
  },
  {
   "cell_type": "code",
   "execution_count": 3,
   "metadata": {},
   "outputs": [],
   "source": [
    "#2. Write a Python program to convert Celsius to Fahrenheit?\n",
    "def celsius_to_farhrenheit(c):#input c is in celsius\n",
    "    f=(c*(9/5)+32)\n",
    "    return f"
   ]
  },
  {
   "cell_type": "code",
   "execution_count": 4,
   "metadata": {},
   "outputs": [
    {
     "data": {
      "text/plain": [
       "98.60000000000001"
      ]
     },
     "execution_count": 4,
     "metadata": {},
     "output_type": "execute_result"
    }
   ],
   "source": [
    "celsius_to_farhrenheit(37)"
   ]
  },
  {
   "cell_type": "code",
   "execution_count": 6,
   "metadata": {},
   "outputs": [
    {
     "name": "stdout",
     "output_type": "stream",
     "text": [
      "enter year: 2022\n",
      "enter month: 1\n",
      "    January 2022\n",
      "Mo Tu We Th Fr Sa Su\n",
      "                1  2\n",
      " 3  4  5  6  7  8  9\n",
      "10 11 12 13 14 15 16\n",
      "17 18 19 20 21 22 23\n",
      "24 25 26 27 28 29 30\n",
      "31\n",
      "\n"
     ]
    }
   ],
   "source": [
    "#3. Write a Python program to display calendar?\n",
    "\n",
    "import calendar\n",
    "\n",
    "year= int(input('enter year: '))\n",
    "month= int(input('enter month: '))\n",
    "\n",
    "print(calendar.month(year,month))"
   ]
  },
  {
   "cell_type": "code",
   "execution_count": 36,
   "metadata": {},
   "outputs": [],
   "source": [
    "#4. Write a Python program to solve quadratic equation?\n",
    "from cmath import *\n",
    "\"\"\"For a quadratic equation ax2 + bx + c = 0,\n",
    "\n",
    "The roots are calculated using the formula, x = (-b ± √ (b² - 4ac) )/2a.\n",
    "Discriminant is, D = b2 - 4ac.\n",
    "If D > 0, then the equation has two real and distinct roots.\n",
    "If D < 0, the equation has two complex roots.\n",
    "If D = 0, the equation has only one real root\"\"\"\n",
    "def roots_of_quadratic_eq(a,b,c):\n",
    "    d=pow(b,2)-4*a*c\n",
    "    if d>0:\n",
    "        x1=(-b+sqrt(d))/2*a\n",
    "        x2=(-b-sqrt(d))/2*a\n",
    "        print('roots of quadratic equation are ',x1,x2)\n",
    "    elif d<0:\n",
    "        x1=(-b+sqrt(d))/2*a\n",
    "        x2=(-b-sqrt(d))/2*a\n",
    "        print('roots of quadratic equation are ',x1,x2)\n",
    "    else:\n",
    "        x1=-b/2*a\n",
    "        print('root of quadratic equation is',x1)\n",
    "        \n",
    "        \n",
    "    "
   ]
  },
  {
   "cell_type": "code",
   "execution_count": 37,
   "metadata": {},
   "outputs": [
    {
     "name": "stdout",
     "output_type": "stream",
     "text": [
      "root of quadratic equation is -1.0\n"
     ]
    }
   ],
   "source": [
    "roots_of_quadratic_eq(1,2,1)"
   ]
  },
  {
   "cell_type": "code",
   "execution_count": 38,
   "metadata": {},
   "outputs": [
    {
     "name": "stdout",
     "output_type": "stream",
     "text": [
      "roots of quadratic equation are  (-15+5j) (-15-5j)\n"
     ]
    }
   ],
   "source": [
    "roots_of_quadratic_eq(5,6,2)"
   ]
  },
  {
   "cell_type": "code",
   "execution_count": 40,
   "metadata": {},
   "outputs": [],
   "source": [
    "#5. Write a Python program to swap two variables without temp variable?\n",
    "\n",
    "def swap(a,b):\n",
    "    a,b=b,a\n",
    "    return a,b"
   ]
  },
  {
   "cell_type": "code",
   "execution_count": null,
   "metadata": {},
   "outputs": [],
   "source": []
  }
 ],
 "metadata": {
  "kernelspec": {
   "display_name": "Python 3",
   "language": "python",
   "name": "python3"
  },
  "language_info": {
   "codemirror_mode": {
    "name": "ipython",
    "version": 3
   },
   "file_extension": ".py",
   "mimetype": "text/x-python",
   "name": "python",
   "nbconvert_exporter": "python",
   "pygments_lexer": "ipython3",
   "version": "3.8.3"
  }
 },
 "nbformat": 4,
 "nbformat_minor": 4
}
