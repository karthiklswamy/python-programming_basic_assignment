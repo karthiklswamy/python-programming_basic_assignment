{
 "cells": [
  {
   "cell_type": "code",
   "execution_count": 29,
   "metadata": {},
   "outputs": [],
   "source": [
    "#1. Write a Python Program to Add Two Matrices?\n",
    "\n",
    "def matrices_add(a,b,c):#  where c is null matrix of same size of a and b \n",
    "    l=[]\n",
    "    if len(a)!=len(b):\n",
    "        return('size of given matrix are not same' )\n",
    "    else:\n",
    "        for i in range(len(a)):\n",
    "              for j in range(len(a[0])):\n",
    "                    c[i][j]=a[i][j]+b[i][j]\n",
    "                \n",
    "    for out in c:\n",
    "        l.append(out)\n",
    "\n",
    "        \n",
    "    return l\n",
    "              "
   ]
  },
  {
   "cell_type": "code",
   "execution_count": 31,
   "metadata": {},
   "outputs": [
    {
     "data": {
      "text/plain": [
       "[[10, 10, 10], [10, 10, 10], [10, 10, 10]]"
      ]
     },
     "execution_count": 31,
     "metadata": {},
     "output_type": "execute_result"
    }
   ],
   "source": [
    "a=[[1,2,3],[4,5,6],[7,8,9]]\n",
    "b=[[9,8,7],[6,5,4],[3,2,1]]\n",
    "c=[[0,0,0],[0,0,0],[0,0,0]]\n",
    "\n",
    "matrices_add(a,b,c)"
   ]
  },
  {
   "cell_type": "code",
   "execution_count": 21,
   "metadata": {},
   "outputs": [
    {
     "data": {
      "text/plain": [
       "'size of given matrix are not same'"
      ]
     },
     "execution_count": 21,
     "metadata": {},
     "output_type": "execute_result"
    }
   ],
   "source": [
    "a=[[1,2,3],[4,5,6]]\n",
    "b=[[9,8,7],[6,5,4],[3,2,1]]\n",
    "c=[[0,0,0],[0,0,0],[0,0,0]]\n",
    "\n",
    "matrices_add(a,b,c)"
   ]
  },
  {
   "cell_type": "code",
   "execution_count": 24,
   "metadata": {},
   "outputs": [],
   "source": [
    "#2. Write a Python Program to Multiply Two Matrices?\n",
    "\n",
    "def matrices_multi(a,b,c):#  where c is null matrix of same size of a and b \n",
    "    if len(a[0])!= len(b):\n",
    "        return('multiplcation is not possible ')\n",
    "    else:\n",
    "        for i in range(len(a)):\n",
    "            for j in range(len(b[0])):\n",
    "                for k in range(len(b)):\n",
    "                    c[i][j] +=a[i][k]+b[k][j]\n",
    "    l=[]\n",
    "    for out in c:\n",
    "        l.append(out)\n",
    "        \n",
    "    return l\n",
    "\n"
   ]
  },
  {
   "cell_type": "code",
   "execution_count": 25,
   "metadata": {},
   "outputs": [
    {
     "data": {
      "text/plain": [
       "[[24, 21, 18], [33, 30, 27], [42, 39, 36]]"
      ]
     },
     "execution_count": 25,
     "metadata": {},
     "output_type": "execute_result"
    }
   ],
   "source": [
    "a=[[1,2,3],[4,5,6],[7,8,9]]\n",
    "b=[[9,8,7],[6,5,4],[3,2,1]]\n",
    "c=[[0,0,0],[0,0,0],[0,0,0]]\n",
    "\n",
    "matrices_multi(a,b,c)"
   ]
  },
  {
   "cell_type": "code",
   "execution_count": 28,
   "metadata": {},
   "outputs": [],
   "source": [
    "#3. Write a Python Program to Transpose a Matrix?\n",
    "\n",
    "def matrix_transpose(a,b):\n",
    "    l=[]\n",
    "    for i in range (len(a)):\n",
    "        for j in range (len (a[0])):\n",
    "            b[j][i]= a[i][j]\n",
    "            \n",
    "    for out in b:\n",
    "        l.append(out)\n",
    "    return l\n",
    "            "
   ]
  },
  {
   "cell_type": "code",
   "execution_count": 32,
   "metadata": {},
   "outputs": [
    {
     "data": {
      "text/plain": [
       "[[1, 4, 7], [2, 5, 8]]"
      ]
     },
     "execution_count": 32,
     "metadata": {},
     "output_type": "execute_result"
    }
   ],
   "source": [
    "a=[[1,2],[4,5],[7,8]]\n",
    "b=[[0,0,0],[0,0,0]]\n",
    "\n",
    "matrix_transpose(a,b)"
   ]
  },
  {
   "cell_type": "code",
   "execution_count": 37,
   "metadata": {},
   "outputs": [],
   "source": [
    "#4. Write a Python Program to Sort Words in Alphabetic Order?\n",
    "\n",
    "def sort_alpha():\n",
    "    \n",
    "    string=input('enter string :')\n",
    "    s=string.lower()\n",
    "    l=s.split()\n",
    "    \n",
    "    l.sort()\n",
    "    \n",
    "    return l\n",
    "    \n",
    "    "
   ]
  },
  {
   "cell_type": "code",
   "execution_count": 38,
   "metadata": {},
   "outputs": [
    {
     "name": "stdout",
     "output_type": "stream",
     "text": [
      "enter string :Hi my name is Karthik\n"
     ]
    },
    {
     "data": {
      "text/plain": [
       "['hi', 'is', 'karthik', 'my', 'name']"
      ]
     },
     "execution_count": 38,
     "metadata": {},
     "output_type": "execute_result"
    }
   ],
   "source": [
    "sort_alpha()"
   ]
  },
  {
   "cell_type": "code",
   "execution_count": 40,
   "metadata": {},
   "outputs": [
    {
     "name": "stdout",
     "output_type": "stream",
     "text": [
      "Enter a string: shhh!.... I'm coming back\n",
      "shhh Im coming back\n"
     ]
    }
   ],
   "source": [
    "#5. Write a Python Program to Remove Punctuation From a String?\n",
    "\n",
    "# define punctuation\n",
    "\n",
    "string = input(\"Enter a string: \")\n",
    "punctuations = '''!()-[]{};:'\"\\,<>./?@#$%^&*_~'''\n",
    "s = \"\"\n",
    "for char in string:\n",
    "    if char not in punctuations:\n",
    "        s = s + char\n",
    "\n",
    "# display the unpunctuated string\n",
    "print(s)"
   ]
  },
  {
   "cell_type": "code",
   "execution_count": null,
   "metadata": {},
   "outputs": [],
   "source": []
  }
 ],
 "metadata": {
  "kernelspec": {
   "display_name": "Python 3",
   "language": "python",
   "name": "python3"
  },
  "language_info": {
   "codemirror_mode": {
    "name": "ipython",
    "version": 3
   },
   "file_extension": ".py",
   "mimetype": "text/x-python",
   "name": "python",
   "nbconvert_exporter": "python",
   "pygments_lexer": "ipython3",
   "version": "3.8.3"
  }
 },
 "nbformat": 4,
 "nbformat_minor": 4
}
