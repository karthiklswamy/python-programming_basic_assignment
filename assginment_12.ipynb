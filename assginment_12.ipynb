{
 "cells": [
  {
   "cell_type": "code",
   "execution_count": 6,
   "metadata": {},
   "outputs": [
    {
     "name": "stdout",
     "output_type": "stream",
     "text": [
      "unique value are: [1, 2, 3, 4, 5, 6, 7, 8, 10, 12]\n"
     ]
    }
   ],
   "source": [
    "#1. Write a Python program to Extract Unique values dictionary values?\n",
    "\n",
    "dicti_1={'A' : [1, 3, 5, 4],\n",
    "             'B' : [4, 6, 8, 10],\n",
    "             'C' : [6, 12, 4 ,8],\n",
    "             'D' : [5, 7, 2]}\n",
    "ele=[]\n",
    "\n",
    "for i in dicti_1.values():\n",
    "    for j in i:\n",
    "        ele.append(j)\n",
    "        \n",
    "print('unique value are:',list(set(ele)))"
   ]
  },
  {
   "cell_type": "code",
   "execution_count": 1,
   "metadata": {},
   "outputs": [],
   "source": [
    "#2.Write a Python program to find the sum of all items in a dictionary?\n",
    "def sum_dicti(mydict):\n",
    "    \n",
    "    sum_value=0\n",
    "\n",
    "    for i in mydict.values():\n",
    "        for j in i:\n",
    "            sum_value=sum_value+j\n",
    "            \n",
    "    return sum_value\n",
    "\n",
    "        \n",
    "\n",
    "\n"
   ]
  },
  {
   "cell_type": "code",
   "execution_count": 3,
   "metadata": {},
   "outputs": [
    {
     "data": {
      "text/plain": [
       "85"
      ]
     },
     "execution_count": 3,
     "metadata": {},
     "output_type": "execute_result"
    }
   ],
   "source": [
    "\n",
    "dicti_1={'A' : [1, 3, 5, 4],\n",
    "             'B' : [4, 6, 8, 10],\n",
    "             'C' : [6, 12, 4 ,8],\n",
    "             'D' : [5, 7, 2]}\n",
    "\n",
    "sum_dicti(dicti_1)"
   ]
  },
  {
   "cell_type": "code",
   "execution_count": 12,
   "metadata": {},
   "outputs": [],
   "source": [
    "#3. Write a Python program to Merging two Dictionaries?\n",
    "\n",
    "def merg_two_dicti(a,b):\n",
    "    dicti_1.update(dicti_2)\n",
    "    \n",
    "    return dicti_1\n",
    "\n"
   ]
  },
  {
   "cell_type": "code",
   "execution_count": 13,
   "metadata": {},
   "outputs": [
    {
     "data": {
      "text/plain": [
       "{'A': [1, 3, 5, 4],\n",
       " 'B': [4, 6, 8, 10],\n",
       " 'C': [6, 12, 4, 8],\n",
       " 'D': [5, 7, 2],\n",
       " 'E': [1, 3, 5, 4],\n",
       " 'F': [4, 6, 8, 10],\n",
       " 'G': [6, 12, 4, 8],\n",
       " 'H': [5, 7, 2]}"
      ]
     },
     "execution_count": 13,
     "metadata": {},
     "output_type": "execute_result"
    }
   ],
   "source": [
    "dicti_1={'A' : [1, 3, 5, 4],\n",
    "             'B' : [4, 6, 8, 10],\n",
    "             'C' : [6, 12, 4 ,8],\n",
    "             'D' : [5, 7, 2]}\n",
    "\n",
    "dicti_2={'E' : [1, 3, 5, 4],\n",
    "             'F' : [4, 6, 8, 10],\n",
    "             'G' : [6, 12, 4 ,8],\n",
    "             'H' : [5, 7, 2]}\n",
    "\n",
    "merg_two_dicti(dicti_1,dicti_2)"
   ]
  },
  {
   "cell_type": "code",
   "execution_count": 3,
   "metadata": {},
   "outputs": [
    {
     "name": "stdout",
     "output_type": "stream",
     "text": [
      "{'jan': 1, 'feb': 2, 'mar': 3, 'apr': 4, 'may': 5, 'jun': 6, 'july': 7, 'aug': 8, 'sept': 9, 'oct': 10, 'nov': 11, 'dec': 12}\n"
     ]
    }
   ],
   "source": [
    "#4.Write a Python program to convert key-values list to flat dictionary?\n",
    "\n",
    "from itertools import product\n",
    "\n",
    "mydicti = {'month' : ['jan','feb','mar','apr','may','jun','july','aug','sept','oct','nov','dec'],\n",
    "          'num' : [1,2,3,4,5,6,7,8,9,10,11,12]}\n",
    "\n",
    "res =dict(zip(mydicti['month'],mydicti['num']))\n",
    "\n",
    "print(res)\n"
   ]
  },
  {
   "cell_type": "code",
   "execution_count": 1,
   "metadata": {},
   "outputs": [
    {
     "name": "stdout",
     "output_type": "stream",
     "text": [
      "Resultant Dictionary : OrderedDict([('siri', '3'), ('manu', '1'), ('karthik', '2')])\n"
     ]
    }
   ],
   "source": [
    "#5. Write a Python program to insertion at the beginning in OrderedDict?\n",
    "\n",
    "from collections import OrderedDict\n",
    " \n",
    "\n",
    "iniordered_dict = OrderedDict([('manu', '1'), ('karthik', '2')])\n",
    " \n",
    "\n",
    "iniordered_dict.update({'siri':'3'})\n",
    "iniordered_dict.move_to_end('siri', last = False)\n",
    " \n",
    "\n",
    "print (\"Resultant Dictionary : \"+str(iniordered_dict))"
   ]
  },
  {
   "cell_type": "code",
   "execution_count": 18,
   "metadata": {},
   "outputs": [],
   "source": [
    "#6.Write a Python program to sort Python Dictionaries by Key or Value?\n",
    "#sorted by key \n",
    "def sorted_dicti(a):\n",
    "    sorted_dict=dict(sorted(a.items()))\n",
    "    \n",
    "    return sorted_dict\n",
    "\n",
    "\n"
   ]
  },
  {
   "cell_type": "code",
   "execution_count": 19,
   "metadata": {},
   "outputs": [
    {
     "data": {
      "text/plain": [
       "{'anu': 2, 'hema': 5, 'karthik': 1, 'manu': 3, 'siri': 4}"
      ]
     },
     "execution_count": 19,
     "metadata": {},
     "output_type": "execute_result"
    }
   ],
   "source": [
    "mydicti_1={'karthik':1,'anu':2,'manu':3,'siri':4,'hema':5}\n",
    "sorted_dicti(mydicti_1)"
   ]
  },
  {
   "cell_type": "code",
   "execution_count": null,
   "metadata": {},
   "outputs": [],
   "source": []
  }
 ],
 "metadata": {
  "kernelspec": {
   "display_name": "Python 3",
   "language": "python",
   "name": "python3"
  },
  "language_info": {
   "codemirror_mode": {
    "name": "ipython",
    "version": 3
   },
   "file_extension": ".py",
   "mimetype": "text/x-python",
   "name": "python",
   "nbconvert_exporter": "python",
   "pygments_lexer": "ipython3",
   "version": "3.8.3"
  }
 },
 "nbformat": 4,
 "nbformat_minor": 4
}
