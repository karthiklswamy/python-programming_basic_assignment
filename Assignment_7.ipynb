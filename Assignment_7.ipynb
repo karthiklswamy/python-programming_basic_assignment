{
 "cells": [
  {
   "cell_type": "code",
   "execution_count": 9,
   "metadata": {},
   "outputs": [],
   "source": [
    "#1. Write a Python Program to find sum of array?\n",
    "\n",
    "def sum_arr(a):# enter list data type input\n",
    "    if type(a)==list:\n",
    "        s=0\n",
    "        for i in a:\n",
    "            if type(i)== int:\n",
    "                s=s+i\n",
    "                \n",
    "                        \n",
    "        return s\n",
    "    else:\n",
    "        return 'given input is not in list data type'\n",
    "        "
   ]
  },
  {
   "cell_type": "code",
   "execution_count": 10,
   "metadata": {},
   "outputs": [
    {
     "data": {
      "text/plain": [
       "55"
      ]
     },
     "execution_count": 10,
     "metadata": {},
     "output_type": "execute_result"
    }
   ],
   "source": [
    "sum_arr([1,2,3,4,5,6,7,8,9,10])"
   ]
  },
  {
   "cell_type": "code",
   "execution_count": 6,
   "metadata": {},
   "outputs": [
    {
     "data": {
      "text/plain": [
       "'given input is not in list data type'"
      ]
     },
     "execution_count": 6,
     "metadata": {},
     "output_type": "execute_result"
    }
   ],
   "source": [
    "sum_arr(1)"
   ]
  },
  {
   "cell_type": "code",
   "execution_count": 11,
   "metadata": {},
   "outputs": [
    {
     "data": {
      "text/plain": [
       "85"
      ]
     },
     "execution_count": 11,
     "metadata": {},
     "output_type": "execute_result"
    }
   ],
   "source": [
    "sum_arr([1,2,3,4,'h',4,56,7,8])"
   ]
  },
  {
   "cell_type": "code",
   "execution_count": 13,
   "metadata": {},
   "outputs": [
    {
     "name": "stdout",
     "output_type": "stream",
     "text": [
      "enter number : 2\n",
      "enter number : 36\n",
      "enter number : 13\n",
      "enter number : 56\n",
      "enter number : 79\n",
      "enter number : 46\n",
      "enter number : 99\n",
      "enter number : 46\n",
      "enter number : 89\n",
      "enter number : 98\n",
      "[2, 36, 13, 56, 79, 46, 99, 46, 89, 98]\n",
      "99\n"
     ]
    }
   ],
   "source": [
    "#2. Write a Python Program to find largest element in an array?\n",
    "l=[]\n",
    "for i in range(10):\n",
    "    n= int(input('enter number : '))\n",
    "    l.append(n)\n",
    "print(l)\n",
    "print(max(l))\n",
    "    \n",
    "    "
   ]
  },
  {
   "cell_type": "code",
   "execution_count": 20,
   "metadata": {},
   "outputs": [],
   "source": [
    "#3. Write a Python Program for array rotation?\n",
    "\n",
    "def arrrotation(array,a):\n",
    "    temp=[]\n",
    "    n=len(array)\n",
    "    for i in array[a:n]:\n",
    "        temp.append(i)\n",
    "    for i in array[0:a]:\n",
    "        temp.append(i)\n",
    "    l=temp.copy()\n",
    "    \n",
    "    print('given array',array)\n",
    "    print('rotated array',l)\n",
    "    \n",
    "    \n",
    "    "
   ]
  },
  {
   "cell_type": "code",
   "execution_count": 21,
   "metadata": {},
   "outputs": [
    {
     "name": "stdout",
     "output_type": "stream",
     "text": [
      "given array [1, 2, 3, 4, 5, 6, 7, 8, 9]\n",
      "rotated array [4, 5, 6, 7, 8, 9, 1, 2, 3]\n"
     ]
    }
   ],
   "source": [
    "arrrotation([1,2,3,4,5,6,7,8,9],3)"
   ]
  },
  {
   "cell_type": "code",
   "execution_count": 28,
   "metadata": {},
   "outputs": [],
   "source": [
    "#4. Write a Python Program to Split the array and add the first part to the end?\n",
    "def split_and_add(array):\n",
    "    temp=[]\n",
    "    n=int((len(array))/2)\n",
    "    for i in array[n:]:\n",
    "        temp.append(i)\n",
    "    for i in array[0:n]:\n",
    "        temp.append(i)\n",
    "    l=temp.copy()\n",
    "    \n",
    "    print('given array',array)\n",
    "    print('split and the first part to the end',l)\n",
    "    \n"
   ]
  },
  {
   "cell_type": "code",
   "execution_count": 29,
   "metadata": {},
   "outputs": [
    {
     "name": "stdout",
     "output_type": "stream",
     "text": [
      "given array [1, 2, 3, 4, 5, 6, 7, 8, 9, 10]\n",
      "split and the first part to the end [6, 7, 8, 9, 10, 1, 2, 3, 4, 5]\n"
     ]
    }
   ],
   "source": [
    "split_and_add([1,2,3,4,5,6,7,8,9,10])"
   ]
  },
  {
   "cell_type": "code",
   "execution_count": 44,
   "metadata": {},
   "outputs": [],
   "source": [
    "def ismonotone(a):\n",
    "    n=len(a) \n",
    "    if n==1:\n",
    "        return True\n",
    "    else:\n",
    "        if all(a[i]>=a[i+1] for i in range(0,n-1) or a[i]<=a[i+1] for i in range(0,n-1)):\n",
    "            return True\n",
    "        else:\n",
    "            return False"
   ]
  },
  {
   "cell_type": "code",
   "execution_count": 45,
   "metadata": {},
   "outputs": [],
   "source": [
    "A=[1,2,3,4,5,6,7]"
   ]
  },
  {
   "cell_type": "code",
   "execution_count": 46,
   "metadata": {},
   "outputs": [
    {
     "data": {
      "text/plain": [
       "False"
      ]
     },
     "execution_count": 46,
     "metadata": {},
     "output_type": "execute_result"
    }
   ],
   "source": [
    "ismonotone(A)"
   ]
  },
  {
   "cell_type": "code",
   "execution_count": 47,
   "metadata": {},
   "outputs": [],
   "source": [
    "b = [6, 2, 4, 2]"
   ]
  },
  {
   "cell_type": "code",
   "execution_count": 48,
   "metadata": {},
   "outputs": [
    {
     "data": {
      "text/plain": [
       "False"
      ]
     },
     "execution_count": 48,
     "metadata": {},
     "output_type": "execute_result"
    }
   ],
   "source": [
    "ismonotone(b)"
   ]
  },
  {
   "cell_type": "code",
   "execution_count": null,
   "metadata": {},
   "outputs": [],
   "source": []
  }
 ],
 "metadata": {
  "kernelspec": {
   "display_name": "Python 3",
   "language": "python",
   "name": "python3"
  },
  "language_info": {
   "codemirror_mode": {
    "name": "ipython",
    "version": 3
   },
   "file_extension": ".py",
   "mimetype": "text/x-python",
   "name": "python",
   "nbconvert_exporter": "python",
   "pygments_lexer": "ipython3",
   "version": "3.8.3"
  }
 },
 "nbformat": 4,
 "nbformat_minor": 4
}
