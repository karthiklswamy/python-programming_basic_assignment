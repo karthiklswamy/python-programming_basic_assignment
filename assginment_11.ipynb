{
 "cells": [
  {
   "cell_type": "code",
   "execution_count": 1,
   "metadata": {},
   "outputs": [],
   "source": [
    "#1.Write a Python program to find words which are greater than given length k?\n",
    "\n",
    "def length_k(s,l):\n",
    "    a=[]\n",
    "    for i in s.split():\n",
    "        if len(i)>l:\n",
    "            a.append(i)\n",
    "    return a\n",
    "            \n",
    "\n"
   ]
  },
  {
   "cell_type": "code",
   "execution_count": 2,
   "metadata": {},
   "outputs": [
    {
     "data": {
      "text/plain": [
       "['karthik', 'learning', 'python', 'coding', 'modarate', 'pace']"
      ]
     },
     "execution_count": 2,
     "metadata": {},
     "output_type": "execute_result"
    }
   ],
   "source": [
    "s='i am karthik and learning python coding at modarate pace'\n",
    "length_k(s,3)"
   ]
  },
  {
   "cell_type": "code",
   "execution_count": null,
   "metadata": {},
   "outputs": [],
   "source": []
  },
  {
   "cell_type": "code",
   "execution_count": 36,
   "metadata": {},
   "outputs": [],
   "source": [
    "#2. Write a Python program for removing i-th character from a string?\n",
    "def remove_i_th_char(k,l):\n",
    "    a=''\n",
    "    if l<len(k):\n",
    "        for i in range(len(k)):\n",
    "            if i!=l:\n",
    "                a=a+k[i]\n",
    "        return(a)\n"
   ]
  },
  {
   "cell_type": "code",
   "execution_count": 37,
   "metadata": {},
   "outputs": [
    {
     "data": {
      "text/plain": [
       "'karhik'"
      ]
     },
     "execution_count": 37,
     "metadata": {},
     "output_type": "execute_result"
    }
   ],
   "source": [
    "k='karthik'\n",
    "remove_i_th_char(k,3)\n"
   ]
  },
  {
   "cell_type": "code",
   "execution_count": 8,
   "metadata": {},
   "outputs": [],
   "source": [
    "#3. Write a Python program to split and join a string?\n",
    "\n",
    "def split_and_join(a):\n",
    "    b=a.split()\n",
    "    c=''\n",
    "    for i in b:\n",
    "        c=c+' '+i\n",
    "    return b, c"
   ]
  },
  {
   "cell_type": "code",
   "execution_count": 9,
   "metadata": {},
   "outputs": [
    {
     "data": {
      "text/plain": [
       "(['i',\n",
       "  'am',\n",
       "  'karthik',\n",
       "  'and',\n",
       "  'learning',\n",
       "  'python',\n",
       "  'coding',\n",
       "  'at',\n",
       "  'modarate',\n",
       "  'pace'],\n",
       " ' i am karthik and learning python coding at modarate pace')"
      ]
     },
     "execution_count": 9,
     "metadata": {},
     "output_type": "execute_result"
    }
   ],
   "source": [
    "s='i am karthik and learning python coding at modarate pace'\n",
    "split_and_join(s)"
   ]
  },
  {
   "cell_type": "code",
   "execution_count": 10,
   "metadata": {},
   "outputs": [],
   "source": [
    "def split_and_join_1(a):\n",
    "    b=a.split()\n",
    "    c=' '.join(b)\n",
    "    return b,c"
   ]
  },
  {
   "cell_type": "code",
   "execution_count": 11,
   "metadata": {},
   "outputs": [
    {
     "data": {
      "text/plain": [
       "(['i',\n",
       "  'am',\n",
       "  'karthik',\n",
       "  'and',\n",
       "  'learning',\n",
       "  'python',\n",
       "  'coding',\n",
       "  'at',\n",
       "  'modarate',\n",
       "  'pace'],\n",
       " 'i am karthik and learning python coding at modarate pace')"
      ]
     },
     "execution_count": 11,
     "metadata": {},
     "output_type": "execute_result"
    }
   ],
   "source": [
    "a='i am karthik and learning python coding at modarate pace'\n",
    "\n",
    "split_and_join_1(a)"
   ]
  },
  {
   "cell_type": "code",
   "execution_count": 12,
   "metadata": {},
   "outputs": [],
   "source": [
    "#4. Write a Python to check if a given string is binary string or not?\n",
    "def check(s) :\n",
    "    b = set(s)\n",
    "    s = {'0', '1'}\n",
    "    if s == b or b == {'0'} or b == {'1'}:\n",
    "        print(\"Binary String\")\n",
    "    else :\n",
    "        print(\"Non Binary String\")\n",
    "  \n"
   ]
  },
  {
   "cell_type": "code",
   "execution_count": 16,
   "metadata": {},
   "outputs": [
    {
     "name": "stdout",
     "output_type": "stream",
     "text": [
      "Binary String\n"
     ]
    }
   ],
   "source": [
    "s1= \"00110101\"\n",
    "check(s1)"
   ]
  },
  {
   "cell_type": "code",
   "execution_count": 17,
   "metadata": {},
   "outputs": [
    {
     "name": "stdout",
     "output_type": "stream",
     "text": [
      "Non Binary String\n"
     ]
    }
   ],
   "source": [
    "s2 = \"1010100200111\"\n",
    "check(s2)"
   ]
  },
  {
   "cell_type": "code",
   "execution_count": 26,
   "metadata": {},
   "outputs": [],
   "source": [
    "#5. Write a Python program to find uncommon words from two Strings?\n",
    "\n",
    "def uncommon_word(a,b):\n",
    "    c=set(a.split())\n",
    "    d=set(b.split())\n",
    "    \n",
    "    print('uncommon word in given  two string are' ,c.symmetric_difference(d))"
   ]
  },
  {
   "cell_type": "code",
   "execution_count": 28,
   "metadata": {},
   "outputs": [
    {
     "name": "stdout",
     "output_type": "stream",
     "text": [
      "uncommon word in given  two string are {'modarate', 'good'}\n"
     ]
    }
   ],
   "source": [
    "a='i am karthik and learning python coding at modarate pace'\n",
    "b='i am karthik and learning python coding at good pace '\n",
    "uncommon_word(a,b)"
   ]
  },
  {
   "cell_type": "code",
   "execution_count": 39,
   "metadata": {},
   "outputs": [],
   "source": [
    "#6. Write a Python to find all duplicate characters in string?\n",
    "\n",
    "def duplicate(a):\n",
    "    l=[]\n",
    "    n=len(a)\n",
    "    c=0\n",
    "    while c<n:\n",
    "        for i in a[c+1:n]:\n",
    "            if i==a[c]:\n",
    "                l.append(i)\n",
    "        c=c+1\n",
    "    return set(l)"
   ]
  },
  {
   "cell_type": "code",
   "execution_count": 41,
   "metadata": {},
   "outputs": [
    {
     "data": {
      "text/plain": [
       "{'a', 'k'}"
      ]
     },
     "execution_count": 41,
     "metadata": {},
     "output_type": "execute_result"
    }
   ],
   "source": [
    "a='karthika'\n",
    "\n",
    "duplicate(a)"
   ]
  },
  {
   "cell_type": "code",
   "execution_count": 42,
   "metadata": {},
   "outputs": [
    {
     "data": {
      "text/plain": [
       "{'e'}"
      ]
     },
     "execution_count": 42,
     "metadata": {},
     "output_type": "execute_result"
    }
   ],
   "source": [
    "b='keerthan'\n",
    "duplicate(b)"
   ]
  },
  {
   "cell_type": "code",
   "execution_count": 52,
   "metadata": {},
   "outputs": [],
   "source": [
    "#7. Write a Python Program to check if a string contains any special character?\n",
    "\n",
    "def special_character(a):\n",
    "    l=['!','@','#','$','%','^','&','*','=','(',')','-',',','<','>','?']\n",
    "    b=[]\n",
    "    \n",
    "    for i in a:\n",
    "        if i in l:\n",
    "            b.append(i)\n",
    "    print('special character found in given string are',set(b))\n",
    "            \n",
    "       "
   ]
  },
  {
   "cell_type": "code",
   "execution_count": 53,
   "metadata": {},
   "outputs": [
    {
     "name": "stdout",
     "output_type": "stream",
     "text": [
      "special character found in given string are {'&', '!', '?'}\n"
     ]
    }
   ],
   "source": [
    "a='hello!! how are you & what are u doing?'\n",
    "special_character(a)"
   ]
  },
  {
   "cell_type": "code",
   "execution_count": null,
   "metadata": {},
   "outputs": [],
   "source": []
  }
 ],
 "metadata": {
  "kernelspec": {
   "display_name": "Python 3",
   "language": "python",
   "name": "python3"
  },
  "language_info": {
   "codemirror_mode": {
    "name": "ipython",
    "version": 3
   },
   "file_extension": ".py",
   "mimetype": "text/x-python",
   "name": "python",
   "nbconvert_exporter": "python",
   "pygments_lexer": "ipython3",
   "version": "3.8.3"
  }
 },
 "nbformat": 4,
 "nbformat_minor": 4
}
