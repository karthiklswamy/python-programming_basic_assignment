{
 "cells": [
  {
   "cell_type": "code",
   "execution_count": 6,
   "metadata": {},
   "outputs": [],
   "source": [
    "#1. Write a Python program to check if the given number is a Disarium Number?\n",
    "\n",
    "def disarium_number():\n",
    "    number=int(input('enter integer to check whether is a disarium number or not: '))\n",
    "    k=str(number)\n",
    "    c=0\n",
    "\n",
    "    for i in range(len(k)):\n",
    "        c=c+int(k[i])**(i+1)\n",
    "        \n",
    "    if c==number:\n",
    "        print('given number is disarium ')\n",
    "        \n",
    "    else:\n",
    "        print('given number is not a disarium')\n",
    "\n",
    "    "
   ]
  },
  {
   "cell_type": "code",
   "execution_count": 7,
   "metadata": {},
   "outputs": [
    {
     "name": "stdout",
     "output_type": "stream",
     "text": [
      "enter integer to check whether is a disarium number or not: 175\n",
      "given number is disarium \n"
     ]
    }
   ],
   "source": [
    "disarium_number()\n"
   ]
  },
  {
   "cell_type": "code",
   "execution_count": 15,
   "metadata": {},
   "outputs": [
    {
     "name": "stdout",
     "output_type": "stream",
     "text": [
      "enter integer to check whether is a disarium number or not: 170\n",
      "given number is not a disarium\n"
     ]
    }
   ],
   "source": [
    "disarium_number()"
   ]
  },
  {
   "cell_type": "code",
   "execution_count": 3,
   "metadata": {},
   "outputs": [],
   "source": [
    "#2. Write a Python program to print all disarium numbers between 1 to 100?\n",
    "\n",
    "def disarium_number_2(a,b):# a,b are intervals \n",
    "    l=[]\n",
    "    c=0\n",
    "    while a<=b:\n",
    "        k=str(a)\n",
    "        for i in range(len(k)):\n",
    "            c=c+int(k[i])**(i+1) \n",
    "        if c==a:\n",
    "            l.append(a)\n",
    "        \n",
    "        a=a+1\n",
    "        c=0\n",
    "        \n",
    "    return l\n",
    "    "
   ]
  },
  {
   "cell_type": "code",
   "execution_count": 4,
   "metadata": {},
   "outputs": [
    {
     "data": {
      "text/plain": [
       "[1, 2, 3, 4, 5, 6, 7, 8, 9, 89]"
      ]
     },
     "execution_count": 4,
     "metadata": {},
     "output_type": "execute_result"
    }
   ],
   "source": [
    "disarium_number_2(1,100)"
   ]
  },
  {
   "cell_type": "code",
   "execution_count": 5,
   "metadata": {},
   "outputs": [
    {
     "data": {
      "text/plain": [
       "[1, 2, 3, 4, 5, 6, 7, 8, 9, 89, 135, 175, 518, 598]"
      ]
     },
     "execution_count": 5,
     "metadata": {},
     "output_type": "execute_result"
    }
   ],
   "source": [
    "disarium_number_2(1,1000)"
   ]
  },
  {
   "cell_type": "code",
   "execution_count": 10,
   "metadata": {},
   "outputs": [],
   "source": [
    "#3. Write a Python program to check if the given number is Happy Number?\n",
    "\n",
    "def sumofdigit(n):\n",
    "    \n",
    "    c=0\n",
    "    k=(str(n))\n",
    "    for i in range(len(k)):\n",
    "        c=c+int(k[i])**2\n",
    "        \n",
    "    return c\n",
    "    \n",
    "\n",
    "def main():\n",
    "    \n",
    "    \n",
    "    n=int(input('enter interger :'))\n",
    "\n",
    "    result=n\n",
    "\n",
    "    while result!=1 and result!=4:\n",
    "        result=sumofdigit(result)\n",
    "\n",
    "\n",
    "    if result==1:\n",
    "        print('happy number')\n",
    "    else :\n",
    "        print('unhappy number')\n",
    "    \n",
    "    \n"
   ]
  },
  {
   "cell_type": "code",
   "execution_count": 11,
   "metadata": {},
   "outputs": [
    {
     "name": "stdout",
     "output_type": "stream",
     "text": [
      "enter interger :13\n",
      "happy number\n"
     ]
    }
   ],
   "source": [
    "main()"
   ]
  },
  {
   "cell_type": "code",
   "execution_count": 12,
   "metadata": {},
   "outputs": [
    {
     "name": "stdout",
     "output_type": "stream",
     "text": [
      "enter interger :15\n",
      "unhappy number\n"
     ]
    }
   ],
   "source": [
    "main()"
   ]
  },
  {
   "cell_type": "code",
   "execution_count": 13,
   "metadata": {},
   "outputs": [],
   "source": [
    "#4. Write a Python program to print all happy numbers between 1 and 100?\n",
    "\n",
    "\n",
    "def sumofdigit(n):\n",
    "    \n",
    "    c=0\n",
    "    k=(str(n))\n",
    "    for i in range(len(k)):\n",
    "        c=c+int(k[i])**2\n",
    "        \n",
    "    return c\n",
    "    \n",
    "\n",
    "def main_1(a,b):\n",
    "    l=[]\n",
    "    for n in range(a,b):\n",
    "        result=n\n",
    "        while result!=1 and result!=4:\n",
    "            result=sumofdigit(result)\n",
    "            \n",
    "        if result==1:\n",
    "            l.append(n)\n",
    "            \n",
    "    return l\n"
   ]
  },
  {
   "cell_type": "code",
   "execution_count": 14,
   "metadata": {},
   "outputs": [
    {
     "data": {
      "text/plain": [
       "[1, 7, 10, 13, 19, 23, 28, 31, 32, 44, 49, 68, 70, 79, 82, 86, 91, 94, 97]"
      ]
     },
     "execution_count": 14,
     "metadata": {},
     "output_type": "execute_result"
    }
   ],
   "source": [
    "main_1(1,100)"
   ]
  },
  {
   "cell_type": "code",
   "execution_count": 17,
   "metadata": {},
   "outputs": [
    {
     "data": {
      "text/plain": [
       "[1,\n",
       " 7,\n",
       " 10,\n",
       " 13,\n",
       " 19,\n",
       " 23,\n",
       " 28,\n",
       " 31,\n",
       " 32,\n",
       " 44,\n",
       " 49,\n",
       " 68,\n",
       " 70,\n",
       " 79,\n",
       " 82,\n",
       " 86,\n",
       " 91,\n",
       " 94,\n",
       " 97,\n",
       " 100,\n",
       " 103,\n",
       " 109,\n",
       " 129,\n",
       " 130,\n",
       " 133,\n",
       " 139,\n",
       " 167,\n",
       " 176,\n",
       " 188,\n",
       " 190,\n",
       " 192,\n",
       " 193]"
      ]
     },
     "execution_count": 17,
     "metadata": {},
     "output_type": "execute_result"
    }
   ],
   "source": [
    "main_1(1,200)"
   ]
  },
  {
   "cell_type": "code",
   "execution_count": 25,
   "metadata": {},
   "outputs": [],
   "source": [
    "#5. Write a Python program to determine whether the given number is a Harshad Number?\n",
    "\n",
    "\n",
    "def harshad_number(n):\n",
    "    k=str(n)\n",
    "    c=0\n",
    "    for i in range(len(k)):\n",
    "        c=c+int(k[i])\n",
    "        \n",
    "        \n",
    "    if n%c==0:\n",
    "        print('given number ',n,'is harshad number')\n",
    "    else:\n",
    "        print('given number is not harshad number ')\n",
    "        \n",
    "        \n",
    "        "
   ]
  },
  {
   "cell_type": "code",
   "execution_count": 26,
   "metadata": {},
   "outputs": [
    {
     "name": "stdout",
     "output_type": "stream",
     "text": [
      "given number  12 is harshad number\n"
     ]
    }
   ],
   "source": [
    "harshad_number(12)"
   ]
  },
  {
   "cell_type": "code",
   "execution_count": 27,
   "metadata": {},
   "outputs": [
    {
     "name": "stdout",
     "output_type": "stream",
     "text": [
      "given number is not harshad number \n"
     ]
    }
   ],
   "source": [
    "harshad_number(11)"
   ]
  },
  {
   "cell_type": "code",
   "execution_count": 36,
   "metadata": {},
   "outputs": [],
   "source": [
    "#6. Write a Python program to print all pronic numbers between 1 and 100?\n",
    "from math import *\n",
    "\n",
    "def pronic_number(a,b):\n",
    "    l=[]\n",
    "    for i in range(a,b):\n",
    "        k=round(sqrt(i))\n",
    "        p=k*(k+1)\n",
    "        if i==p:\n",
    "            l.append(p)\n",
    "            \n",
    "    return l"
   ]
  },
  {
   "cell_type": "code",
   "execution_count": 39,
   "metadata": {},
   "outputs": [
    {
     "data": {
      "text/plain": [
       "[2, 6, 12, 20, 30, 42, 56, 72, 90]"
      ]
     },
     "execution_count": 39,
     "metadata": {},
     "output_type": "execute_result"
    }
   ],
   "source": [
    "pronic_number(1,100)"
   ]
  },
  {
   "cell_type": "code",
   "execution_count": null,
   "metadata": {},
   "outputs": [],
   "source": []
  }
 ],
 "metadata": {
  "kernelspec": {
   "display_name": "Python 3",
   "language": "python",
   "name": "python3"
  },
  "language_info": {
   "codemirror_mode": {
    "name": "ipython",
    "version": 3
   },
   "file_extension": ".py",
   "mimetype": "text/x-python",
   "name": "python",
   "nbconvert_exporter": "python",
   "pygments_lexer": "ipython3",
   "version": "3.8.3"
  }
 },
 "nbformat": 4,
 "nbformat_minor": 4
}
