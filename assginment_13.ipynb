{
 "cells": [
  {
   "cell_type": "code",
   "execution_count": 8,
   "metadata": {},
   "outputs": [],
   "source": [
    "#Question 1:\n",
    "\"\"\"Write a program that calculates and prints the value according to the given formula:\n",
    "    Q = Square root of [(2 * C * D)/H]\n",
    "    Following are the fixed values of C and H:\n",
    "    C is 50. H is 30.\n",
    "    D is the variable whose values should be input to your program in a comma-separated\n",
    "    sequence.\"\"\"\n",
    "\n",
    "from  math import*\n",
    "\n",
    "\n",
    "\n",
    "def formula(d,c=50,h=30):\n",
    "    try:\n",
    "        \n",
    "        q=sqrt((2*c*d)/h)\n",
    "        \n",
    "    except Exception as e:\n",
    "        print('error is:',e)\n",
    "        \n",
    "        \n",
    "    finally:\n",
    "         return q\n",
    "\n",
    "\n",
    "\n",
    "def body_of_program():\n",
    "    try:\n",
    "        result=[]\n",
    "    #input value of D \n",
    "        l= [int(x) for x in input(\"Enter three values\\n\").split(',')]\n",
    "        for i in l:\n",
    "            result.append(int(formula(i)))\n",
    "            \n",
    "    except Exception as e:\n",
    "        print('error is:',e)\n",
    "    finally:\n",
    "        return result\n",
    "        \n",
    "\n",
    "\n",
    "\n",
    "\n",
    "\n"
   ]
  },
  {
   "cell_type": "code",
   "execution_count": 9,
   "metadata": {},
   "outputs": [
    {
     "name": "stdout",
     "output_type": "stream",
     "text": [
      "Enter three values\n",
      "100,150,180\n"
     ]
    },
    {
     "data": {
      "text/plain": [
       "[18, 22, 24]"
      ]
     },
     "execution_count": 9,
     "metadata": {},
     "output_type": "execute_result"
    }
   ],
   "source": [
    "body_of_program()"
   ]
  },
  {
   "cell_type": "code",
   "execution_count": 32,
   "metadata": {},
   "outputs": [],
   "source": [
    "#Question 2:\n",
    "\"\"\"Write a program which takes 2 digits, X,Y as input and generates a 2-dimensional array. The\n",
    "element value in the i-th row and j-th column of the array should be i*j.\"\"\"\n",
    "\n",
    "def d_array(rows,cols):\n",
    "    \n",
    "    array = [[i*j for i in range(cols)] for j in range(rows)]\n",
    "    \n",
    "    return array\n",
    "\n",
    "def d_array_1(rows,cols):\n",
    "    array_2=[]\n",
    "    for i in range(rows):\n",
    "        row=[]\n",
    "        for j in range(cols):\n",
    "            row.append(i*j)\n",
    "        array_2.append(row)\n",
    "    return array_2   \n",
    "\n",
    "\n"
   ]
  },
  {
   "cell_type": "code",
   "execution_count": 33,
   "metadata": {},
   "outputs": [
    {
     "data": {
      "text/plain": [
       "[[0, 0, 0, 0, 0], [0, 1, 2, 3, 4], [0, 2, 4, 6, 8]]"
      ]
     },
     "execution_count": 33,
     "metadata": {},
     "output_type": "execute_result"
    }
   ],
   "source": [
    "d_array(3,5)"
   ]
  },
  {
   "cell_type": "code",
   "execution_count": 34,
   "metadata": {},
   "outputs": [
    {
     "data": {
      "text/plain": [
       "[[0, 0, 0, 0, 0],\n",
       " [0, 1, 2, 3, 4],\n",
       " [0, 2, 4, 6, 8],\n",
       " [0, 3, 6, 9, 12],\n",
       " [0, 4, 8, 12, 16]]"
      ]
     },
     "execution_count": 34,
     "metadata": {},
     "output_type": "execute_result"
    }
   ],
   "source": [
    "d_array_1(5,5)"
   ]
  },
  {
   "cell_type": "code",
   "execution_count": 42,
   "metadata": {},
   "outputs": [
    {
     "name": "stdout",
     "output_type": "stream",
     "text": [
      "enter comma separeted sequence of words:\n",
      "without,hello,bag,world\n",
      "comma separeted words in sorted manner\n",
      "bag,hello,without,world,"
     ]
    }
   ],
   "source": [
    "#Question 3:\n",
    "'''Write a program that accepts a comma separated sequence of words as input and prints the\n",
    "words in a comma-separated sequence after sorting them alphabetically.'''\n",
    "\n",
    "#for input\n",
    "seq=[x for x in input('enter comma separeted sequence of words:\\n').split(',')]\n",
    "\n",
    "#for sorting opertion \n",
    "seq.sort()\n",
    "\n",
    "#for printing comma separeted words in sorted manner\n",
    "print('comma separeted words in sorted manner')\n",
    "for i in seq:\n",
    "    print(i,end=',')"
   ]
  },
  {
   "cell_type": "code",
   "execution_count": 44,
   "metadata": {},
   "outputs": [
    {
     "name": "stdout",
     "output_type": "stream",
     "text": [
      "enter  whitespace separated words :\n",
      "hello world and practice makes perfect and hello world again\n",
      "again and hello makes perfect practice world "
     ]
    }
   ],
   "source": [
    "\"\"\"Question 4:\n",
    "Write a program that accepts a sequence of whitespace separated words as input and prints\n",
    "the words after removing all duplicate words and sorting them alphanumerically.\"\"\"\n",
    "#for input\n",
    "sentence=[x for x in input('enter  whitespace separated words :\\n').split(' ')]\n",
    "\n",
    "# to remove duplicate and sort\n",
    "sentence_1=list(set(sentence))\n",
    "\n",
    "sentence_1.sort()\n",
    "\n",
    "for i in sentence_1:\n",
    "    print(i,end=' ')\n",
    "\n",
    "\n",
    "\n"
   ]
  },
  {
   "cell_type": "code",
   "execution_count": 45,
   "metadata": {},
   "outputs": [
    {
     "name": "stdout",
     "output_type": "stream",
     "text": [
      "enter sentence both letter and number \n",
      ":hello world! 123\n",
      "LETTER: 10\n",
      "DIGIT: 3\n"
     ]
    }
   ],
   "source": [
    "'''Question 5:\n",
    "Write a program that accepts a sentence and calculate the number of letters and digits.'''\n",
    "\n",
    "sentence=input('enter sentence both letter and number \\n:')\n",
    "\n",
    "num=['0','1','2','3','4','5','6','7','8','9']\n",
    "special_char=[' ','!','@','#','$','%','^','&','*','(',')','_']\n",
    "\n",
    "letter=0\n",
    "digit=0\n",
    "\n",
    "for i in sentence:\n",
    "    if i not in special_char:\n",
    "        if i in num:\n",
    "            digit=digit+1\n",
    "        else:\n",
    "            letter=letter+1\n",
    "            \n",
    "print(\"LETTER:\",letter)\n",
    "print('DIGIT:',digit)\n",
    "\n",
    "\n",
    "        \n",
    "\n"
   ]
  },
  {
   "cell_type": "code",
   "execution_count": 99,
   "metadata": {},
   "outputs": [],
   "source": [
    "\"\"\"Question 6:\n",
    "A website requires the users to input username and password to register. Write a program to\n",
    "check the validity of password input by users.\n",
    "Following are the criteria for checking the password:\n",
    "1. At least 1 letter between [a-z]\n",
    "2. At least 1 number between [0-9]\n",
    "1. At least 1 letter between [A-Z]\n",
    "3. At least 1 character from [$#@]\n",
    "4. Minimum length of transaction password: 6\n",
    "5. Maximum length of transaction password: 12\n",
    "Your program should accept a sequence of comma separated passwords and will check them\n",
    "according to the above criteria. Passwords that match the criteria are to be printed, each\n",
    "separated by a comma.\"\"\"\n",
    "\n",
    "import re\n",
    "def password_criteria(password):\n",
    "    if len(password)>6 and len(password)<12:\n",
    "        if re.search('[a-z]',password):\n",
    "            if re.search('[A-Z]',password):\n",
    "                if re.search('[0-9]',password):\n",
    "                    if re.search('[$#@]',password):\n",
    "                        print('vaild password are:\\n',password,end=',')\n",
    "                        \n",
    "                        \n",
    "def main():\n",
    "    list_password= [x for x in input(\"Enter password in comma sperated sequence :\\n\").split(',')]\n",
    "    \n",
    "    for password in list_password:\n",
    "        password_criteria(password)\n",
    "    \n",
    "                \n",
    "    \n",
    "    \n",
    "    \n",
    "\n"
   ]
  },
  {
   "cell_type": "code",
   "execution_count": 100,
   "metadata": {},
   "outputs": [
    {
     "name": "stdout",
     "output_type": "stream",
     "text": [
      "Enter password in comma sperated sequence :\n",
      "ABd1234@1,a F1#,2w3E*,2We3345\n",
      "vaild password are:\n",
      " ABd1234@1,"
     ]
    }
   ],
   "source": [
    "main()"
   ]
  },
  {
   "cell_type": "markdown",
   "metadata": {},
   "source": []
  },
  {
   "cell_type": "code",
   "execution_count": 96,
   "metadata": {},
   "outputs": [
    {
     "ename": "SyntaxError",
     "evalue": "invalid syntax (<ipython-input-96-7338c4e3e5ad>, line 6)",
     "output_type": "error",
     "traceback": [
      "\u001b[1;36m  File \u001b[1;32m\"<ipython-input-96-7338c4e3e5ad>\"\u001b[1;36m, line \u001b[1;32m6\u001b[0m\n\u001b[1;33m    if re.search('[$#@]',p)\u001b[0m\n\u001b[1;37m                           ^\u001b[0m\n\u001b[1;31mSyntaxError\u001b[0m\u001b[1;31m:\u001b[0m invalid syntax\n"
     ]
    }
   ],
   "source": [
    "for p in list1:\n",
    "    if len(p)>6 and len(p)<12:\n",
    "        if re.search('[a-z]',p):\n",
    "            if re.search('[A-Z]',p):\n",
    "                if re.search('[0-9]',p):\n",
    "                    if re.search('[$#@]',p):\n",
    "                        \n",
    "                    \n",
    "                \n",
    "            \n",
    "            "
   ]
  },
  {
   "cell_type": "code",
   "execution_count": null,
   "metadata": {},
   "outputs": [],
   "source": []
  }
 ],
 "metadata": {
  "kernelspec": {
   "display_name": "Python 3",
   "language": "python",
   "name": "python3"
  },
  "language_info": {
   "codemirror_mode": {
    "name": "ipython",
    "version": 3
   },
   "file_extension": ".py",
   "mimetype": "text/x-python",
   "name": "python",
   "nbconvert_exporter": "python",
   "pygments_lexer": "ipython3",
   "version": "3.8.3"
  }
 },
 "nbformat": 4,
 "nbformat_minor": 4
}
